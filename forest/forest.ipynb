{
 "cells": [
  {
   "cell_type": "markdown",
   "metadata": {},
   "source": [
    "## Extra Trees\n",
    "### Algorithm (Incomplete)\n",
    "1. Train a classifier on the original dataset $X$, $Y$ with only a subset of features\n",
    "3. Repeat the steps above and get a list of classifiers\n",
    "4. Predict a sample with all the classifiers and their average is the desired prediction\n",
    "\n"
   ]
  },
  {
   "cell_type": "markdown",
   "metadata": {},
   "source": [
    "## Random Forest"
   ]
  },
  {
   "cell_type": "markdown",
   "metadata": {},
   "source": [
    "### Algorithm\n",
    "1. Build a boostrap dataset\n",
    "    + *Random Sampling.* Sample randomly, with replacement, $n$ training examples from $X$, $Y$; call these $X_b$, $Y_b$\n",
    "    + *Equal size.* $X_b$ and $Y_b$ is randomly sampled from $X$ and $Y$, but their sizes are the same. This means that $X_b$ and $Y_b$ might have the repeated entry and out-of-bag entry.\n",
    "2. Train a classifier on the boostrap dataset $X_b$, $Y_b$ with only a subset of features\n",
    "    + the size of subset is determined by a hyperparameter called \"max_depth\"\n",
    "    + In practical, we choose several candidates for \"max_depth\" and train multiple random forests. Then we compute their accuracy on out-of-bag entries and select the \"max_depth\" whose corresponding random forest yileding minimal error.\n",
    "3. Repeat the steps above and get a list of classifiers\n",
    "4. Predict a sample with all the classifiers and their average is the desired prediction\n",
    "\n"
   ]
  },
  {
   "cell_type": "markdown",
   "metadata": {},
   "source": [
    "### Example of Random Forest with sklearn"
   ]
  },
  {
   "cell_type": "code",
   "execution_count": 1,
   "metadata": {},
   "outputs": [
    {
     "name": "stdout",
     "output_type": "stream",
     "text": [
      "0.7774302933175743\n",
      "0.6213222552057729\n",
      "0.5654299618867402\n",
      "0.6017436126833549\n",
      "0.6563808050787381\n",
      "0.5733860087873761\n",
      "0.647933455280104\n",
      "0.4797270487269829\n"
     ]
    },
    {
     "data": {
      "image/png": "[encoded data removed]",
      "text/plain": [
       "<matplotlib.figure.Figure at 0x7f36cc2307f0>"
      ]
     },
     "metadata": {},
     "output_type": "display_data"
    },
    {
     "name": "stdout",
     "output_type": "stream",
     "text": [
      "(0, 0, 0) => 0.7954761904761906\n",
      "(0, 0, 1) => 1.0854761904761905\n",
      "(0, 1, 0) => 1.349365079365079\n",
      "(1, 0, 0) => 1.2323015873015872\n",
      "(1, 1, 0) => 1.786190476190476\n",
      "(1, 0, 1) => 1.5223015873015875\n",
      "(0, 1, 1) => 1.6393650793650794\n",
      "(1, 1, 1) => 2.0761904761904764\n"
     ]
    }
   ],
   "source": [
    "%matplotlib inline\n",
    "import numpy as np\n",
    "\n",
    "# build X_train and y_train\n",
    "X_train=np.array([[0,0,0],\n",
    "                [0,0,1],\n",
    "                [0,1,0],\n",
    "                [1,0,0],\n",
    "                [1,1,0],\n",
    "                [1,0,1],\n",
    "                [0,1,1],\n",
    "                [1,1,1],])\n",
    "y_train=np.array([0,1,1,1,2,2,2,3])\n",
    "\n",
    "\n",
    "# build a model\n",
    "from sklearn.ensemble import RandomForestRegressor\n",
    "from sklearn.model_selection import cross_val_score\n",
    "# Random Forest ( depth)\n",
    "params = [1,3,5,6,7,8,9,10] # check for each depth to find out which one performs best\n",
    "test_scores = [] # get score for each depth (designed to find out which one performs best)\n",
    "for param in params:\n",
    "    clf = RandomForestRegressor(n_estimators=30,max_depth=param) # construct a classifier\n",
    "    test_score = np.mean(np.sqrt(-cross_val_score(clf, X_train, y_train, scoring='neg_mean_squared_error',cv=5))) # put the training data in and cal the cost\n",
    "    print(test_score)\n",
    "    test_scores.append(test_score) # cal the average costimport \n",
    "\n",
    "# find out which depth is best\n",
    "import matplotlib.pyplot as plt # draw\n",
    "plt.figure()\n",
    "plt.title(\"Param vs CV Error\")\n",
    "plt.plot(params, test_scores)\n",
    "plt.show()\n",
    "\n",
    "rf = RandomForestRegressor(n_estimators=30, max_depth=1) # construct a classifier\n",
    "rf.fit(X_train, y_train)\n",
    "y_predicted = rf.predict(X_train)\n",
    "\n",
    "for i in range(len(X_train)):\n",
    "    print('({}, {}, {}) => {}'.format(X_train[i, 0], X_train[i, 1], X_train[i, 2], y_predicted[i]))"
   ]
  },
  {
   "cell_type": "code",
   "execution_count": null,
   "metadata": {},
   "outputs": [],
   "source": []
  }
 ],
 "metadata": {
  "kernelspec": {
   "display_name": "Python 3",
   "language": "python",
   "name": "python3"
  },
  "language_info": {
   "codemirror_mode": {
    "name": "ipython",
    "version": 3
   },
   "file_extension": ".py",
   "mimetype": "text/x-python",
   "name": "python",
   "nbconvert_exporter": "python",
   "pygments_lexer": "ipython3",
   "version": "3.6.4"
  }
 },
 "nbformat": 4,
 "nbformat_minor": 2
}
