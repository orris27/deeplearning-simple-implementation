{
 "cells": [
  {
   "cell_type": "markdown",
   "metadata": {},
   "source": [
    "## Parameter Quantization\n",
    "### Idea\n",
    "+ Use less bit to represent weights\n",
    "+ Classify weights and each classification corresponds to one specific value. The classification method can be selected as K-means, for example. The corresponding value for a specific class can be the mean values computed from the original value. We can use Huffman encoding to encode the class index, i.e., less bits for frequent classes, more bits for rare classes.\n",
    "    <img src=\"images/clustering.png\" width=\"350\"/>\n"
   ]
  },
  {
   "cell_type": "markdown",
   "metadata": {},
   "source": [
    "## Pruning\n",
    "Prune weights or neurons?\n",
    "+ weights => irregular form of network => difficult to implement and optimize\n",
    "\n",
    "Copy weights from trained model to new model, i.e, we do not randomly initialize weights for the new model"
   ]
  },
  {
   "attachments": {},
   "cell_type": "markdown",
   "metadata": {},
   "source": [
    "## Low rank approximation\n",
    "### Fully connected layer\n",
    "Add a layer with less parameters between two layers.\n",
    "<img src=\"images/low_rank_approximation.png\" width=\"350\"/>\n",
    "Number of parameters: $M N \\rightarrow M K + KN$\n",
    "\n",
    "The resulted network has a rank less than $k$, while the old one is not constrained by $k$\n",
    "\n",
    "### Convolution neural network\n",
    "The standard convolution operation is:\n",
    "<img src=\"images/standard_cnn.png\" width=\"350\"/>\n",
    "We can turn the standard CNN to the following:\n",
    "<img src=\"images/depthwise_separable_convolution.png\" width=\"350\"/>\n",
    "\n",
    "**step**: (The statements in the bracket represent standard CNN)\n",
    "1. An input 3-d tensor convolves with a list of matrices filters(3-d filters) and outputs a 3-d tensor. \n",
    "2. The output 3-d tensor convolves with a list of 3-d filters of size 1x1 and outputs a 3-d tensor.\n",
    "\n",
    "In the 1st step, each matrix filter convolves with its corresponding channel of input tensor, and thus produces a matrix. In the 2nd step, 1x1 filters are used to build connection between channels in input tensor.\n",
    "\n",
    "*Computation Analysis*: The number of parameters reduce from $KKIO$ to $KKI + IO$, where $I$ and $O$ denote to the number of input and output channels respectively. The ratio of compression is $\\frac{KKI + IO}{KK I O} = \\frac{1}{O} + \\frac{1}{KK}$. For a concrete example, the number of parameters reduce from $3 \\times 3 \\times 2 \\times 4 = 72$ to $3 \\times 3 \\times 2 + 1 \\times 1 \\times 2 \\times 4 = 26$"
   ]
  }
 ],
 "metadata": {
  "kernelspec": {
   "display_name": "Python 3",
   "language": "python",
   "name": "python3"
  },
  "language_info": {
   "codemirror_mode": {
    "name": "ipython",
    "version": 3
   },
   "file_extension": ".py",
   "mimetype": "text/x-python",
   "name": "python",
   "nbconvert_exporter": "python",
   "pygments_lexer": "ipython3",
   "version": "3.6.4"
  }
 },
 "nbformat": 4,
 "nbformat_minor": 2
}
