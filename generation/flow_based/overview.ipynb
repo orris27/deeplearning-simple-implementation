{
 "cells": [
  {
   "cell_type": "markdown",
   "metadata": {},
   "source": [
    "# Flow-based Generative Model\n",
    "[Video for Flow-based Generative Model](https://www.youtube.com/watch?v=uXY18nzdSsM)"
   ]
  },
  {
   "cell_type": "markdown",
   "metadata": {},
   "source": [
    "## Introduction\n",
    "### Math background\n",
    "**Denotation**:\n",
    "+ $\\mathbf{x}$: Real data, such as image. It is a vector/matrix/tensor.\n",
    "+ $\\mathbf{z}$: Latent variable, and also serve as input variables in generation task\n",
    "+ $\\pi(z)$: The probability of producing $z$, i.e., the probability density function for $z$. In general, $\\pi(z)$ is selected as normal distribution.\n",
    "+ $p(x)$: The probability density function for $x$\n",
    "+ $f$: The generative model who takes $z$ as input and produces $x$, i.e., $\\mathbf{z} = f(\\mathbf{x})$\n",
    "+ Jacobian determinant (the function maps from one dimension to the same dimension, i.e., $n = m$)\n",
    "    + The product of Jacobian determinant for a function and its inverse equals to 1, i.e., $\\text{det}(\\mathbf{J}_f) \\text{det}(\\mathbf{J}_{f^{-1}}) = 1$\n",
    "+ $\\text{det}(\\mathbf{x})$: The physical meaning of determinant is the volume of object that its row/column vectors make up: <img src=\"images/determinant.png\" width=\"350\"/>\n",
    "\n"
   ]
  },
  {
   "cell_type": "markdown",
   "metadata": {},
   "source": [
    "\n",
    "### Idea\n",
    "\n",
    "\n",
    "For 1 dimension, the relationship between $\\pi(z)$ and $p(x)$:\n",
    "$$\n",
    "\\pi(z)|\\Delta{z}| = p(x)|\\Delta{x}| \\\\\n",
    "\\pi(z) = p(x)\\left|\\frac{\\Delta{x}}{\\Delta{z}}\\right| \\\\\n",
    "\\pi(z) = p(x) \\left|\\frac{\\text{d}x}{\\text{d}z}\\right|\n",
    "$$\n",
    "For 2 dimension, the relation becomes:\n",
    "$$\n",
    "\\pi(z)|\\Delta{z_1}\\Delta{z_2}| = p(x) \\left|\\text{det}\\begin{bmatrix}\n",
    "\\Delta x_{11} & \\Delta x_{21} \\\\\n",
    "\\Delta x_{12} & \\Delta x_{22} \\\\\n",
    "\\end{bmatrix}\\right| \\\\\n",
    "\\pi(z) = p(x) \\left|\\text{det}\\begin{bmatrix}\n",
    "\\frac{\\partial x_1}{\\partial z_1} & \\frac{\\partial x_2}{\\partial z_1} \\\\\n",
    "\\frac{\\partial x_1}{\\partial z_2} & \\frac{\\partial x_2}{\\partial z_2} \\\\\n",
    "\\end{bmatrix}\\right| \\\\\n",
    "\\pi(z) = p(x)|\\text{det}(\\mathbf{J}_f)| \\\\\n",
    "\\pi(z)\\frac{1}{|\\text{det}(\\mathbf{J}_f)|} = p(x) \\\\ \n",
    "\\pi(z)|\\text{det}(\\mathbf{J}_{f^{-1}})| = p(x)  \n",
    "$$\n",
    "\n",
    "**Relationship between $\\pi(z)$ and $p(x)$**:\n",
    "$$\n",
    "\\pi(z) = p(x)|\\text{det}(\\mathbf{J}_f)| \\\\\n",
    "\\pi(z)|\\text{det}(\\mathbf{J}_{f^{-1}})| = p(x) \n",
    "$$\n"
   ]
  },
  {
   "cell_type": "markdown",
   "metadata": {},
   "source": [
    "\n",
    "In generative model, we want the probability of real data to be large. Therefore we need to maximize $p(x)$ where $x$ is sampled from real data. the target function is:\n",
    "$$\n",
    "F = \\text{arg }\\underset{G}{\\text{max}}{\\sum_i^m{\\log{p_G(x^i)}}},\n",
    "$$\n",
    "where $G$ is the generative function, as well as $f$ we discussed above. \n",
    "\n",
    "Based on the aforementioned discussion, $p_G(x^{i})$ can be replaced with:\n",
    "$$\n",
    "p_G(x^{i}) = \\pi(z^i)|\\text{det}(\\mathbf{J}_{G^{-1}})|\n",
    "$$\n",
    "\n",
    "Therefore, the target function becomes:\n",
    "\\begin{aligned}\n",
    "F & = \\text{arg }\\underset{G}{\\text{max}}{\\sum_i^m{\\log{ \\pi(z^i)|\\text{det}(\\mathbf{J}_{G^{-1}})|  }}} \\\\\n",
    "& = \\text{arg }\\underset{G}{\\text{max}}{\\sum_i^m({\\log{ \\pi(z^i) + \\log{|\\text{det}(\\mathbf{J}_{G^{-1}})|})  }}}\n",
    "\\end{aligned}\n",
    "\n",
    "$z^i$ is the input for $G$, and thus the output of $G^{-1}$ taking $x^i$ as input. The equation above can be further transformed into:\n",
    "\n",
    "\n",
    "**Target function:**\n",
    "$$\n",
    "F = \\text{arg }\\underset{G}{\\text{max}}{\\sum_i^m({\\log{ \\pi(G^{-1}(x^i)) + \\log{|\\text{det}(\\mathbf{J}_{G^{-1}})|})  }}}\n",
    "$$\n",
    "\n",
    "What does this target function means? Since $\\pi(\\mathbf{x})$ is normal distribution (we assume latent variables follow normal distribution), this target function depends only on $G^{-1}$ and $\\mathbf{x}$, i.e., the inverse of generative model and input real data. Therefore, we use real data to train an inverse of generative model by optimizing target function value.\n",
    "\n",
    "\n",
    "To compute objective function fast, we need to find an efficient algorithm to calculate $G^{-1}(\\mathbf{x})$ and $\\mathbf{J}_{G^{-1}}$. One of solutions is coupling layer."
   ]
  },
  {
   "cell_type": "markdown",
   "metadata": {},
   "source": [
    "#### Coupling Layer\n",
    "The overview of coupling layer is:\n",
    "<img src=\"images/coupling_layer_forward.png\" width=\"350\"/>\n",
    "\n",
    "\n",
    "The coupling layer takes $\\mathbf{z}$ as input and outputs $\\mathbf{x}$. First, we split $\\mathbf{z}$ into 2 parts. Then we copy the first part to $\\mathbf{x}$ and computes the second part of $\\mathbf{x}$.\n",
    "\n",
    "**1. Coupling layer is friendly to calculation of $G^{-1}$.** The figure below shows the inverse of coupling layer.\n",
    "<img src=\"images/coupling_layer_inverse.png\" width=\"350\"/>\n",
    "\n",
    "**2. Coupling layer is friendly to calculation of $\\mathbf{J}_{G^{-1}}$.** The reason that $F$ and $H$ can be any functions is the derivative of second part of $\\mathbf{x}$ over first part of $\\mathbf{z}$ is removed from the calculation of $\\mathbf{J}_{G^{-1}}$. \n",
    "\n",
    "<img src=\"images/coupling_layer_determinant.png\" width=\"350\"/>\n",
    "\n",
    "\n",
    "What if $F$ and $H$ is invertable? It happens rarely, since it requires a determinant of matrix to be zero which can be arbitrary values.\n",
    "\n",
    "**3. Randomly split $z$ to avoid the last image has the exact values from noise.**\n",
    "<img src=\"images/coupling_layer_random.png\" width=\"350\"/>\n"
   ]
  },
  {
   "attachments": {},
   "cell_type": "markdown",
   "metadata": {},
   "source": [
    "**Coupling layer is stacked to form a flow**:\n",
    "<img src=\"images/flow.png\" width=\"350\"/>"
   ]
  },
  {
   "cell_type": "code",
   "execution_count": null,
   "metadata": {},
   "outputs": [],
   "source": []
  }
 ],
 "metadata": {
  "kernelspec": {
   "display_name": "Python 3",
   "language": "python",
   "name": "python3"
  },
  "language_info": {
   "codemirror_mode": {
    "name": "ipython",
    "version": 3
   },
   "file_extension": ".py",
   "mimetype": "text/x-python",
   "name": "python",
   "nbconvert_exporter": "python",
   "pygments_lexer": "ipython3",
   "version": "3.6.4"
  }
 },
 "nbformat": 4,
 "nbformat_minor": 2
}
