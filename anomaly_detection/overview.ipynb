{
 "cells": [
  {
   "cell_type": "markdown",
   "metadata": {},
   "source": [
    "# Anomaly Detection\n",
    "Detect the anomalous data that is different from real data.\n",
    "\n",
    "The direct approach is **binary classification**, i.e., the real data and anomalous data are classified into different classes. However, the problem with binary classification is it is difficult to define an anomalous data and collect them.\n"
   ]
  },
  {
   "cell_type": "markdown",
   "metadata": {},
   "source": [
    "## Idea\n",
    "### Confidence\n",
    "The model outputs the label and confidence for input tensor.\n",
    "\n",
    "How to compute confidence? The first approach is to use the outputs of softmax. If the maximum value of softmax outputs is less than a threshold, we label the input data as anomalous. The second approach is to build a different network that outputs the confidence.\n",
    "\n",
    "### Generative Model\n",
    "For example, we train an Auto-encoder model based on real data. If we encode a new data to latent variables that cannot be reconstructed to a normal data, then the new data might be anomalous.\n",
    "<img src=\"images/auto_encoder.png\" width=\"350\"/>"
   ]
  }
 ],
 "metadata": {
  "kernelspec": {
   "display_name": "Python 3",
   "language": "python",
   "name": "python3"
  },
  "language_info": {
   "codemirror_mode": {
    "name": "ipython",
    "version": 3
   },
   "file_extension": ".py",
   "mimetype": "text/x-python",
   "name": "python",
   "nbconvert_exporter": "python",
   "pygments_lexer": "ipython3",
   "version": "3.6.4"
  }
 },
 "nbformat": 4,
 "nbformat_minor": 2
}
