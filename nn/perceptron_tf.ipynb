{
 "cells": [
  {
   "cell_type": "markdown",
   "metadata": {},
   "source": [
    "# Perceptron"
   ]
  },
  {
   "cell_type": "markdown",
   "metadata": {},
   "source": [
    "Step 1: Import packages."
   ]
  },
  {
   "cell_type": "code",
   "execution_count": 1,
   "metadata": {},
   "outputs": [],
   "source": [
    "import tensorflow as tf"
   ]
  },
  {
   "cell_type": "code",
   "execution_count": null,
   "metadata": {},
   "outputs": [],
   "source": []
  },
  {
   "cell_type": "markdown",
   "metadata": {},
   "source": [
    "Step 2: Prepare data.\n",
    "\n",
    "准备MNIST数据集,原来label为0的新label也是0,原来label>0的就设置为1.\n",
    "\n",
    "这里直接已经处理好的数据集`train_binary.csv`,下载地址参考引用链接"
   ]
  },
  {
   "cell_type": "code",
   "execution_count": 2,
   "metadata": {},
   "outputs": [],
   "source": [
    "T = 1.0\n",
    "F = -1.0\n",
    "bias = 1.0\n",
    "\n",
    "x_train = [[F, F, bias], [F, T, bias], [T, F, bias], [T, T, bias]]\n",
    "y_train = [[F], [T], [T], [T]]\n",
    "\n"
   ]
  },
  {
   "cell_type": "markdown",
   "metadata": {},
   "source": [
    "Step 3: Build model."
   ]
  },
  {
   "cell_type": "code",
   "execution_count": 3,
   "metadata": {},
   "outputs": [],
   "source": [
    "class Perceptron(object):\n",
    "    def __init__(self, input_size=3, learning_rate=0.01):\n",
    "        \n",
    "        self.w = tf.Variable(tf.random_normal([input_size, 1]))\n",
    "        self.features = tf.placeholder(tf.float32, [None, input_size])\n",
    "        self.labels = tf.placeholder(tf.float32, [None, 1])\n",
    "        def step(x):\n",
    "            is_greater = tf.greater(x, 0)\n",
    "            as_float = tf.to_float(is_greater)\n",
    "            doubled = tf.multiply(as_float, 2)\n",
    "            return tf.subtract(doubled, 1)\n",
    "        \n",
    "        \n",
    "        y_predicted = self.forward(self.features)\n",
    "        error = tf.subtract(self.labels, y_predicted)\n",
    "        \n",
    "        self.mse_loss = tf.reduce_mean(tf.square(error))\n",
    "        \n",
    "        # compute the change ot weights = (error * input)\n",
    "        delta = learning_rate * tf.matmul(self.features, error, transpose_a=True)\n",
    "                \n",
    "        self.train_op = tf.assign(self.w, tf.add(self.w, delta))\n",
    "                \n",
    "                \n",
    "    \n",
    "    def forward(self, features):\n",
    "        net = tf.matmul(features, self.w)\n",
    "        net = tf.to_float(tf.greater(net, 0))\n",
    "        net = tf.multiply(net, 2)\n",
    "        return tf.subtract(net, 1)\n",
    "        \n",
    "\n",
    "    def fit(self, features, labels, num_epochs=1000, loss_limit=0.01):\n",
    "        config = tf.ConfigProto()\n",
    "        config.gpu_options.allow_growth = True\n",
    "        self.sess = tf.Session(config=config)\n",
    "        self.sess.run(tf.global_variables_initializer())\n",
    "        for epoch in range(num_epochs):\n",
    "            _, loss = self.sess.run([self.train_op, self.mse_loss], feed_dict={self.features:features, self.labels:labels})\n",
    "            print('Epoch %d: loss=%.6f\\n'%(epoch, loss))\n",
    "            if loss < loss_limit:\n",
    "                break\n",
    "   \n",
    "    def predict(self, features):\n",
    "        return self.sess.run(self.forward(features))\n"
   ]
  },
  {
   "cell_type": "markdown",
   "metadata": {},
   "source": [
    "Step 4: Train model and evaluate."
   ]
  },
  {
   "cell_type": "code",
   "execution_count": 4,
   "metadata": {},
   "outputs": [
    {
     "name": "stdout",
     "output_type": "stream",
     "text": [
      "Epoch 0: loss=3.000000\n",
      "\n",
      "Epoch 1: loss=3.000000\n",
      "\n",
      "Epoch 2: loss=3.000000\n",
      "\n",
      "Epoch 3: loss=3.000000\n",
      "\n",
      "Epoch 4: loss=3.000000\n",
      "\n",
      "Epoch 5: loss=3.000000\n",
      "\n",
      "Epoch 6: loss=3.000000\n",
      "\n",
      "Epoch 7: loss=3.000000\n",
      "\n",
      "Epoch 8: loss=3.000000\n",
      "\n",
      "Epoch 9: loss=3.000000\n",
      "\n",
      "Epoch 10: loss=3.000000\n",
      "\n",
      "Epoch 11: loss=3.000000\n",
      "\n",
      "Epoch 12: loss=3.000000\n",
      "\n",
      "Epoch 13: loss=3.000000\n",
      "\n",
      "Epoch 14: loss=2.000000\n",
      "\n",
      "Epoch 15: loss=2.000000\n",
      "\n",
      "Epoch 16: loss=2.000000\n",
      "\n",
      "Epoch 17: loss=2.000000\n",
      "\n",
      "Epoch 18: loss=2.000000\n",
      "\n",
      "Epoch 19: loss=2.000000\n",
      "\n",
      "Epoch 20: loss=2.000000\n",
      "\n",
      "Epoch 21: loss=2.000000\n",
      "\n",
      "Epoch 22: loss=2.000000\n",
      "\n",
      "Epoch 23: loss=2.000000\n",
      "\n",
      "Epoch 24: loss=2.000000\n",
      "\n",
      "Epoch 25: loss=2.000000\n",
      "\n",
      "Epoch 26: loss=2.000000\n",
      "\n",
      "Epoch 27: loss=2.000000\n",
      "\n",
      "Epoch 28: loss=2.000000\n",
      "\n",
      "Epoch 29: loss=2.000000\n",
      "\n",
      "Epoch 30: loss=2.000000\n",
      "\n",
      "Epoch 31: loss=2.000000\n",
      "\n",
      "Epoch 32: loss=2.000000\n",
      "\n",
      "Epoch 33: loss=2.000000\n",
      "\n",
      "Epoch 34: loss=2.000000\n",
      "\n",
      "Epoch 35: loss=2.000000\n",
      "\n",
      "Epoch 36: loss=1.000000\n",
      "\n",
      "Epoch 37: loss=1.000000\n",
      "\n",
      "Epoch 38: loss=1.000000\n",
      "\n",
      "Epoch 39: loss=2.000000\n",
      "\n",
      "Epoch 40: loss=0.000000\n",
      "\n"
     ]
    }
   ],
   "source": [
    "p = Perceptron()\n",
    "p.fit(x_train, y_train)"
   ]
  },
  {
   "cell_type": "code",
   "execution_count": 5,
   "metadata": {},
   "outputs": [
    {
     "data": {
      "text/plain": [
       "array([[ 1.],\n",
       "       [ 1.],\n",
       "       [-1.]], dtype=float32)"
      ]
     },
     "execution_count": 5,
     "metadata": {},
     "output_type": "execute_result"
    }
   ],
   "source": [
    "x_test = [[F, T, bias], [T, F, bias], [F, F, bias]]\n",
    "p.predict(x_test)"
   ]
  }
 ],
 "metadata": {
  "kernelspec": {
   "display_name": "Python 3",
   "language": "python",
   "name": "python3"
  },
  "language_info": {
   "codemirror_mode": {
    "name": "ipython",
    "version": 3
   },
   "file_extension": ".py",
   "mimetype": "text/x-python",
   "name": "python",
   "nbconvert_exporter": "python",
   "pygments_lexer": "ipython3",
   "version": "3.6.4"
  }
 },
 "nbformat": 4,
 "nbformat_minor": 2
}
