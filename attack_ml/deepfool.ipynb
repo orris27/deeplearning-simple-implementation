{
 "cells": [
  {
   "cell_type": "markdown",
   "metadata": {},
   "source": [
    "# DeepFool\n",
    "paper: [DeepFool: a simple and accurate method to fool deep neural networks](https://arxiv.org/pdf/1511.04599.pdf)\n",
    "\n",
    "code: [tree-regularization-public](https://github.com/dtak/tree-regularization-public)"
   ]
  },
  {
   "cell_type": "markdown",
   "metadata": {},
   "source": [
    "## Binary Classification\n",
    "The author uses a simple affine function $y = w^T x + b$ as an introduction.\n",
    "<img src=\"images/binary_classification.png\"/>"
   ]
  },
  {
   "cell_type": "markdown",
   "metadata": {},
   "source": [
    "The minimal change for $\\mathbf{x_0}$ is to move to the projection of $\\mathbf{x_0}$ in the line. The distance of $\\mathbf{x_0}$ to the line is:\n",
    "$$\n",
    "d = \\frac{\\lvert f(\\mathbf{x_0})\\rvert}{\\lVert \\mathbf{w} \\rVert_2},\n",
    "$$\n",
    "where $\\lVert \\mathbf{w} \\rVert_2 = \\sqrt{w_1^2 + w_2^2}$.\n",
    "\n",
    "$\\mathbf{x_0}$ is a point, and thus the distance should be decomposed to $x$ and $y$ offsets, which is:\n",
    "$$\n",
    "r_*(\\mathbf{x_0}) = \\begin{bmatrix}\n",
    "-\\frac{f(\\mathbf{x_0})}{\\lVert \\mathbf{w} \\rVert_2^2} w_1 \\\\\n",
    "-\\frac{f(\\mathbf{x_0})}{\\lVert \\mathbf{w} \\rVert_2^2} w_2\n",
    "\\end{bmatrix} = -\\frac{f(\\mathbf{x_0})}{\\lVert \\mathbf{w} \\rVert_2^2} \\mathbf{w}\n",
    "$$\n",
    "\n",
    "We can extend the above equation to the following form (**the minimal perturbation to change the classifier's decision**) to fit general binary classifier:\n",
    "$$\n",
    "r_*(\\mathbf{x_0}) =  -\\frac{f(\\mathbf{x_0})}{\\lVert \\bigtriangledown{f(\\mathbf{x_0})} \\rVert_2^2} \\bigtriangledown{f(\\mathbf{x_0})}\n",
    "$$\n",
    "\n",
    "\n",
    "However, the above algorithm can only converge to a point on the zero level set. In order to reach the other side of the classification boundary, **the final perturbation verctor is multiplied by a constant $1 + \\eta$, with $\\eta \\ll 1$**. In paper, the author uses $\\eta = 0.02$.\n"
   ]
  },
  {
   "cell_type": "markdown",
   "metadata": {},
   "source": [
    "## 2. Multiclass Classification\n",
    "If we define the hyperplane as $\\mathscr{F}_k = f_{\\hat{k}(\\mathbf{x_0})}(\\mathbf{x_0}) - f_k(\\mathbf{x_0}), k = 1, 2, \\cdots, c$, where $k$ is $k$th class index, $\\hat{k}(\\mathbf{x_0})$ is the class index $\\mathbf{x_0}$ is classified into, $f_k(\\mathbf{x_0})$ is the $k$th output of the final layer before softmax and $c$ is the number of classes.\n",
    "\n",
    "The fact that $\\mathbf{x_0}$ belongs to $\\hat{k}(\\mathbf{x_0})$ means that $\\forall k \\in \\{1, 2, \\cdots, c\\}, \\mathscr{F_k} \\geq 0$. The illustration is shown as follows:\n",
    "<img src=\"images/multiclass_classification.png\" width=\"350\"/>"
   ]
  },
  {
   "cell_type": "markdown",
   "metadata": {},
   "source": [
    "The goal of DeepFool is to perturb the image so that the model misclassifies input image, and the misclassified label is not the concern. Therefore, we only need to move $\\mathbf{x_0}$ outside of the green region shown in the figure above.\n",
    "\n",
    "**The minimal perturbation to change the classifier's decision for multiclass classification is**:\n",
    "$$\n",
    "r_*(\\mathbf{x_0}) =  -\\frac{\\mathscr{F}_k(\\mathbf{x_0})}{\\lVert \\bigtriangledown{\\mathscr{F}_k(\\mathbf{x_0})} \\rVert_2^2} \\bigtriangledown{\\mathscr{F}_k(\\mathbf{x_0})}\n",
    "$$\n",
    "\n",
    "In practical, the author selects the top $10$ classes the input image is classified to and iterate them to select one that produces the least perturbation which is defined as the least disance from $\\mathbf{x_0}$ to hyperplanes. $\\bigtriangledown{\\mathscr{F}_k(\\mathbf{x_0})}$ is computed by $\\bigtriangledown f_{\\hat{k}(\\mathbf{x_0})}(\\mathbf{x_0}) - \\bigtriangledown f_k(\\mathbf{x_0})$.\n",
    "\n",
    "<img src=\"images/multiclass_classification_alg.png\" width=\"350\"/>"
   ]
  }
 ],
 "metadata": {
  "kernelspec": {
   "display_name": "Python 3",
   "language": "python",
   "name": "python3"
  },
  "language_info": {
   "codemirror_mode": {
    "name": "ipython",
    "version": 3
   },
   "file_extension": ".py",
   "mimetype": "text/x-python",
   "name": "python",
   "nbconvert_exporter": "python",
   "pygments_lexer": "ipython3",
   "version": "3.6.4"
  }
 },
 "nbformat": 4,
 "nbformat_minor": 2
}
