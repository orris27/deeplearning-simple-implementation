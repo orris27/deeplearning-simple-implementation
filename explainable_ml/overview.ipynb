{
 "cells": [
  {
   "cell_type": "markdown",
   "metadata": {},
   "source": [
    "# Explainable ML"
   ]
  },
  {
   "cell_type": "markdown",
   "metadata": {},
   "source": [
    "## Idea\n",
    "### Local Explanation\n",
    "We have the following ideas:\n",
    "+ We change a pixel/segment of input image, and see if the output changed dramatically.\n",
    "    <img src=\"images/gray_block.png\" width=\"350\"/>\n",
    "+ Gradient. We change each pixel by a little bit, and calculate the derivative. We draw a map based on the magnitude of gradients. Grad-CAM, SmoothGrad, Layer-wise Relevance Propagation and Guided Backpropagation adopt this method. \n",
    "    <img src=\"images/saliency_map.png\" width=\"350\"/>\n",
    "    "
   ]
  },
  {
   "cell_type": "markdown",
   "metadata": {},
   "source": [
    "### Global Explanation\n",
    "Find the image that the model is considered ideal for a specific class.\n",
    "$$\n",
    "x^* = \\text{arg }\\underset{x}{\\text{max }} y_i \n",
    "$$"
   ]
  },
  {
   "cell_type": "markdown",
   "metadata": {},
   "source": [
    "#### Regularization from Generator\n",
    "[Plug & Play Generative Networks: Conditional Iterative Generation of Images in Latent Space](https://arxiv.org/abs/1612.00005)\n",
    "<img src=\"images/generator.png\" width=\"350\"/>\n",
    "\n",
    "This architecture is different from GAN in that the image classifier is fixed to several classes, and thus the generator can only produces the specific class. Besides, the idea of this generator is to transform the global explanation into the formula below, i.e., we update the latent variables $z$ instead of image $x$.\n",
    "$$\n",
    "z^* = \\text{arg }\\underset{z}{\\text{max }} y_i \n",
    "$$"
   ]
  },
  {
   "cell_type": "markdown",
   "metadata": {},
   "source": [
    "Another approach:\n",
    "\n",
    "Train a explanable model that mimics our model.\n",
    "+ The explanable model only mimics a small range of our model, since it is not as powerful as our mode"
   ]
  }
 ],
 "metadata": {
  "kernelspec": {
   "display_name": "Python 3",
   "language": "python",
   "name": "python3"
  },
  "language_info": {
   "codemirror_mode": {
    "name": "ipython",
    "version": 3
   },
   "file_extension": ".py",
   "mimetype": "text/x-python",
   "name": "python",
   "nbconvert_exporter": "python",
   "pygments_lexer": "ipython3",
   "version": "3.6.4"
  }
 },
 "nbformat": 4,
 "nbformat_minor": 2
}
